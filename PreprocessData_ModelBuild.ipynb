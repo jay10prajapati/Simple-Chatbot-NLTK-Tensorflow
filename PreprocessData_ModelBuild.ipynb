{
 "cells": [
  {
   "cell_type": "markdown",
   "metadata": {},
   "source": [
    "# This Notebook Contains:\n",
    "### 1.  Pre-processing of data. \n",
    "### 2.  Filter data base on categories\n",
    "### 3.  Including one-hot-encoding\n",
    "### 4.  Prepare Traing data\n",
    "### 5.  Build NLP model\n",
    "### 6.  Save all intermediate results and model checkpoints"
   ]
  },
  {
   "cell_type": "markdown",
   "metadata": {},
   "source": [
    "### Including python libraries"
   ]
  },
  {
   "cell_type": "code",
   "execution_count": 1,
   "metadata": {},
   "outputs": [
    {
     "name": "stdout",
     "output_type": "stream",
     "text": [
      "curses is not supported on this machine (please install/reinstall curses for an optimal experience)\n",
      "WARNING:tensorflow:From C:\\Users\\LENOVO\\Anaconda3\\lib\\site-packages\\tensorflow\\python\\framework\\op_def_library.py:263: colocate_with (from tensorflow.python.framework.ops) is deprecated and will be removed in a future version.\n",
      "Instructions for updating:\n",
      "Colocations handled automatically by placer.\n"
     ]
    },
    {
     "name": "stderr",
     "output_type": "stream",
     "text": [
      "[nltk_data] Downloading package punkt to\n",
      "[nltk_data]     C:\\Users\\LENOVO\\AppData\\Roaming\\nltk_data...\n",
      "[nltk_data]   Package punkt is already up-to-date!\n",
      "[nltk_data] Downloading package stopwords to\n",
      "[nltk_data]     C:\\Users\\LENOVO\\AppData\\Roaming\\nltk_data...\n",
      "[nltk_data]   Package stopwords is already up-to-date!\n"
     ]
    },
    {
     "data": {
      "text/plain": [
       "True"
      ]
     },
     "execution_count": 1,
     "metadata": {},
     "output_type": "execute_result"
    }
   ],
   "source": [
    "import pandas as pd\n",
    "\n",
    "# things we need for NLP\n",
    "import nltk\n",
    "from nltk.stem.lancaster import LancasterStemmer\n",
    "from nltk.corpus import stopwords\n",
    "stemmer = LancasterStemmer()\n",
    "\n",
    "# things we need for Tensorflow\n",
    "import numpy as np\n",
    "import tflearn\n",
    "import tensorflow as tf\n",
    "import random\n",
    "\n",
    "# additional things\n",
    "import json\n",
    "import os.path\n",
    "import re\n",
    "import string\n",
    "from collections import defaultdict\n",
    "\n",
    "# download required data for data-preprocessing\n",
    "nltk.download('punkt')\n",
    "nltk.download('stopwords')"
   ]
  },
  {
   "cell_type": "markdown",
   "metadata": {},
   "source": [
    "### Process excel files and save in binary format for future use"
   ]
  },
  {
   "cell_type": "code",
   "execution_count": 2,
   "metadata": {},
   "outputs": [],
   "source": [
    "def process_raw_excel_data(file_name, number_of_sheets):\n",
    "    \n",
    "    # check if file is already save in pickel format\n",
    "    if os.path.exists('Processed_Data/QandA_Excel_full_data.pkl'):\n",
    "        final_df = pd.read_pickle(\"Processed_Data/QandA_Excel_full_data.pkl\")\n",
    "        return final_df\n",
    "    \n",
    "    # check excel file available or not\n",
    "    if not os.path.exists('QandA.xlsx'):\n",
    "        print ('Excel file is not available....')\n",
    "    \n",
    "    xls = pd.ExcelFile('QandA.xlsx')\n",
    "    number_of_excel_sheets = 78\n",
    "    final_df = pd.DataFrame(columns=['Q', 'A'])\n",
    "    for i in range(number_of_excel_sheets):\n",
    "        df_temp = pd.read_excel(xls, 'Table '+ str(i+1))\n",
    "        df = df_temp[df_temp.columns[0:]].apply(lambda x: '      '.join(x.dropna().astype(str)), axis=1)\n",
    "        for j in range(len(df)):        \n",
    "            q_and_a = [s.strip() for s in df[j].split('  ') if s and not s.isnumeric()]  \n",
    "            \n",
    "            # check question and answer both exist\n",
    "            if len(q_and_a) == 2:\n",
    "                final_df = final_df.append({'Q':q_and_a[0], 'A':q_and_a[1]}, ignore_index=True)\n",
    "    \n",
    "    # save excel file\n",
    "    final_df.to_pickle(\"Processed_Data/QandA_Excel_full_data.pkl\")\n",
    "    return final_df"
   ]
  },
  {
   "cell_type": "markdown",
   "metadata": {},
   "source": [
    "### Convert excel data into model competible format(dictionary) and save it"
   ]
  },
  {
   "cell_type": "code",
   "execution_count": 3,
   "metadata": {},
   "outputs": [],
   "source": [
    "# generate intent dictionary from excel file\n",
    "def generate_intent_dictionary():\n",
    "    \n",
    "    # check if file is already save in json format\n",
    "    if os.path.exists('Processed_Data/intents.json'):\n",
    "        intents = None\n",
    "        with open('Processed_Data/intents.json', 'r') as fp:\n",
    "            intents = json.load(fp)\n",
    "        return intents\n",
    "\n",
    "    intents = defaultdict(list)\n",
    "    patterns = defaultdict(list)\n",
    "    responses = defaultdict(list)\n",
    "\n",
    "    # define categories/classes for sentenses\n",
    "    classes = ['what', 'how many', 'where', 'when', 'how much', 'how', 'who', 'which', 'whose']\n",
    "    class_value_dict = {'tag': None, 'patterns': [], 'responses': [], 'context_set': '', 'context_filter':''}\n",
    "    data_size = len(excel_df)\n",
    "    for i in range(data_size):\n",
    "        q_text = excel_df.iloc[i]['Q'].lower()\n",
    "        a_text = excel_df.iloc[i]['A']\n",
    "        for category in classes:        \n",
    "            if category in q_text:\n",
    "                patterns[category].append(q_text)\n",
    "                responses[category].append(a_text)\n",
    "\n",
    "    for category in classes:\n",
    "        class_value_dict = {'tag': None, 'patterns': [], 'responses': [], 'context_set': '', 'context_filter':''}\n",
    "        class_value_dict['tag'] = category\n",
    "        class_value_dict['patterns'] = patterns[category]\n",
    "        class_value_dict['responses'] = responses[category]\n",
    "        class_value_dict['context_set'] = ''\n",
    "        class_value_dict['context_filter'] =''\n",
    "        intents['intents'].append(class_value_dict)\n",
    "\n",
    "    # save json file for model training    \n",
    "    with open('Processed_Data/intents.json', 'w') as fp:\n",
    "        json.dump(intents, fp)\n",
    "    "
   ]
  },
  {
   "cell_type": "code",
   "execution_count": 4,
   "metadata": {},
   "outputs": [],
   "source": [
    "# function for simple pre-processing\n",
    "def do_simple_data_preprocessing(text):\n",
    "    \n",
    "    # make lower case\n",
    "    result = text.lower()\n",
    "    \n",
    "    # remove numbers, digits\n",
    "    result = re.sub(r'\\d+', '', result)\n",
    "    \n",
    "    # remove punctuations\n",
    "    result = re.sub(r'[^\\w\\s]','',result)\n",
    "    \n",
    "    # remove whitespaces\n",
    "    result = result.strip()\n",
    "    \n",
    "    return result"
   ]
  },
  {
   "cell_type": "markdown",
   "metadata": {},
   "source": [
    "### Create a set of Words, Classes and Documents "
   ]
  },
  {
   "cell_type": "code",
   "execution_count": 5,
   "metadata": {},
   "outputs": [],
   "source": [
    "def create_bow_docs(intents):\n",
    "    words = []\n",
    "    classes = []\n",
    "    documents = []\n",
    "    ignore_words = ['?']\n",
    "    stop_words = set(stopwords.words('english'))\n",
    "    # loop through each sentence in our intents patterns\n",
    "    for intent in intents['intents']:\n",
    "        for pattern in intent['patterns']:\n",
    "            # simple pre-processing of data\n",
    "            pattern = do_simple_data_preprocessing(pattern)\n",
    "            # tokenize each word in the sentence\n",
    "            w = nltk.word_tokenize(pattern)\n",
    "            # add to our words list\n",
    "            words.extend(w)\n",
    "            # add to documents in our corpus\n",
    "            w1 = [w_value for w_value in w if w_value not in classes]\n",
    "            documents.append((w1, intent['tag']))\n",
    "            # add to our classes list\n",
    "            if intent['tag'] not in classes:\n",
    "                classes.append(intent['tag'])\n",
    "\n",
    "    # stem and lower each word and remove duplicates\n",
    "    words = [stemmer.stem(w.lower()) for w in words if (w not in ignore_words and w not in stop_words)]\n",
    "    words = sorted(list(set(words)))\n",
    "\n",
    "    # remove duplicates\n",
    "    classes = sorted(list(set(classes)))\n",
    "\n",
    "    return (words, classes, documents)\n",
    "    # print (len(documents), \"documents\")\n",
    "    # print (len(classes), \"classes\", classes)\n",
    "    # print (len(words), \"unique stemmed words\", words)"
   ]
  },
  {
   "cell_type": "markdown",
   "metadata": {},
   "source": [
    "### Creating Training Data "
   ]
  },
  {
   "cell_type": "code",
   "execution_count": 6,
   "metadata": {},
   "outputs": [],
   "source": [
    "# get intent data dictionary\n",
    "intents = generate_intent_dictionary()\n",
    "\n",
    "# make bow, classes, documents\n",
    "(words, classes, documents) = create_bow_docs(intents)\n",
    "\n",
    "# create our training data\n",
    "training = []\n",
    "output = []\n",
    "# create an empty array for our output\n",
    "output_empty = [0] * len(classes)\n",
    "\n",
    "# training set, bag of words for each sentence\n",
    "for doc in documents:\n",
    "    # initialize our bag of words\n",
    "    bag = []\n",
    "    # list of tokenized words for the pattern\n",
    "    pattern_words = doc[0]\n",
    "    # stem each word\n",
    "    pattern_words = [stemmer.stem(word.lower()) for word in pattern_words]\n",
    "    # create our bag of words array\n",
    "    for w in words:\n",
    "        bag.append(1) if w in pattern_words else bag.append(0)\n",
    "\n",
    "    # output is a '0' for each tag and '1' for current tag\n",
    "    output_row = list(output_empty)\n",
    "    output_row[classes.index(doc[1])] = 1\n",
    "\n",
    "    training.append([bag, output_row])\n",
    "\n",
    "# shuffle our features and turn into np.array\n",
    "random.shuffle(training)\n",
    "training = np.array(training)\n",
    "\n",
    "# create train and test lists\n",
    "train_x = list(training[:,0])\n",
    "train_y = list(training[:,1])"
   ]
  },
  {
   "cell_type": "markdown",
   "metadata": {},
   "source": [
    "### Build a NLP model and save it. "
   ]
  },
  {
   "cell_type": "code",
   "execution_count": 7,
   "metadata": {},
   "outputs": [
    {
     "name": "stdout",
     "output_type": "stream",
     "text": [
      "Training Step: 43399  | total loss: \u001b[1m\u001b[32m0.04204\u001b[0m\u001b[0m | time: 4.102s\n",
      "| Adam | epoch: 050 | loss: 0.04204 - acc: 0.9813 -- iter: 6936/6941\n",
      "Training Step: 43400  | total loss: \u001b[1m\u001b[32m0.03817\u001b[0m\u001b[0m | time: 4.106s\n",
      "| Adam | epoch: 050 | loss: 0.03817 - acc: 0.9832 -- iter: 6941/6941\n",
      "--\n",
      "INFO:tensorflow:C:\\Users\\LENOVO\\Documents\\Jay_jupyter_notebooks\\Simple-Chatbot-NLTK-Tensorflow\\JAY_model.tflearn is not in all_model_checkpoint_paths. Manually adding it.\n"
     ]
    }
   ],
   "source": [
    "# reset underlying graph data\n",
    "tf.reset_default_graph()\n",
    "# Build neural network\n",
    "net = tflearn.input_data(shape=[None, len(train_x[0])])\n",
    "net = tflearn.fully_connected(net, 8)\n",
    "net = tflearn.fully_connected(net, 8)\n",
    "net = tflearn.fully_connected(net, len(train_y[0]), activation='softmax')\n",
    "net = tflearn.regression(net)\n",
    "\n",
    "# Define model and setup tensorboard\n",
    "model = tflearn.DNN(net, tensorboard_dir='tflearn_logs')\n",
    "# Start training (apply gradient descent algorithm)\n",
    "model.fit(train_x, train_y, n_epoch=50, batch_size=8, show_metric=True)\n",
    "# save a model\n",
    "model.save('JAY_model.tflearn')"
   ]
  },
  {
   "cell_type": "markdown",
   "metadata": {},
   "source": [
    "### Data formatting for checking model"
   ]
  },
  {
   "cell_type": "code",
   "execution_count": 8,
   "metadata": {},
   "outputs": [],
   "source": [
    "def clean_up_sentence(sentence):\n",
    "    # tokenize the pattern\n",
    "    sentence_words = nltk.word_tokenize(sentence)\n",
    "    # stem each word\n",
    "    sentence_words = [stemmer.stem(word.lower()) for word in sentence_words]\n",
    "    return sentence_words\n",
    "\n",
    "# return bag of words array: 0 or 1 for each word in the bag that exists in the sentence\n",
    "def bow(sentence, words, show_details=False):\n",
    "    # tokenize the pattern\n",
    "    sentence_words = clean_up_sentence(sentence)\n",
    "    # bag of words\n",
    "    bag = [0]*len(words)  \n",
    "    for s in sentence_words:\n",
    "        for i,w in enumerate(words):\n",
    "            if w == s: \n",
    "                bag[i] = 1\n",
    "                if show_details:\n",
    "                    print (\"found in bag: %s\" % w)\n",
    "\n",
    "    return(np.array(bag))"
   ]
  },
  {
   "cell_type": "markdown",
   "metadata": {},
   "source": [
    "### process excel data and include one-hot-encoding  "
   ]
  },
  {
   "cell_type": "code",
   "execution_count": 9,
   "metadata": {},
   "outputs": [
    {
     "data": {
      "text/html": [
       "<div>\n",
       "<style scoped>\n",
       "    .dataframe tbody tr th:only-of-type {\n",
       "        vertical-align: middle;\n",
       "    }\n",
       "\n",
       "    .dataframe tbody tr th {\n",
       "        vertical-align: top;\n",
       "    }\n",
       "\n",
       "    .dataframe thead th {\n",
       "        text-align: right;\n",
       "    }\n",
       "</style>\n",
       "<table border=\"1\" class=\"dataframe\">\n",
       "  <thead>\n",
       "    <tr style=\"text-align: right;\">\n",
       "      <th></th>\n",
       "      <th>Q</th>\n",
       "      <th>A</th>\n",
       "      <th>binary_encoding</th>\n",
       "    </tr>\n",
       "  </thead>\n",
       "  <tbody>\n",
       "    <tr>\n",
       "      <th>0</th>\n",
       "      <td>How many rings on the Olympic flag</td>\n",
       "      <td>Five</td>\n",
       "      <td>[0, 0, 0, 0, 0, 0, 0, 0, 0, 0, 0, 0, 0, 0, 0, ...</td>\n",
       "    </tr>\n",
       "    <tr>\n",
       "      <th>1</th>\n",
       "      <td>What colour is vermilion a shade of</td>\n",
       "      <td>Red</td>\n",
       "      <td>[0, 0, 0, 0, 0, 0, 0, 0, 0, 0, 0, 0, 0, 0, 0, ...</td>\n",
       "    </tr>\n",
       "    <tr>\n",
       "      <th>2</th>\n",
       "      <td>King Zog ruled which country</td>\n",
       "      <td>Albania</td>\n",
       "      <td>[0, 0, 0, 0, 0, 0, 0, 0, 0, 0, 0, 0, 0, 0, 0, ...</td>\n",
       "    </tr>\n",
       "    <tr>\n",
       "      <th>3</th>\n",
       "      <td>What colour is Spock's blood</td>\n",
       "      <td>Green</td>\n",
       "      <td>[0, 0, 0, 0, 0, 0, 0, 0, 0, 0, 0, 0, 0, 0, 0, ...</td>\n",
       "    </tr>\n",
       "    <tr>\n",
       "      <th>4</th>\n",
       "      <td>Where in your body is your patella</td>\n",
       "      <td>Knee ( it's the kneecap )</td>\n",
       "      <td>[0, 0, 0, 0, 0, 0, 0, 0, 0, 0, 0, 0, 0, 0, 0, ...</td>\n",
       "    </tr>\n",
       "  </tbody>\n",
       "</table>\n",
       "</div>"
      ],
      "text/plain": [
       "                                     Q                          A  \\\n",
       "0   How many rings on the Olympic flag                       Five   \n",
       "1  What colour is vermilion a shade of                        Red   \n",
       "2         King Zog ruled which country                    Albania   \n",
       "3         What colour is Spock's blood                      Green   \n",
       "4   Where in your body is your patella  Knee ( it's the kneecap )   \n",
       "\n",
       "                                     binary_encoding  \n",
       "0  [0, 0, 0, 0, 0, 0, 0, 0, 0, 0, 0, 0, 0, 0, 0, ...  \n",
       "1  [0, 0, 0, 0, 0, 0, 0, 0, 0, 0, 0, 0, 0, 0, 0, ...  \n",
       "2  [0, 0, 0, 0, 0, 0, 0, 0, 0, 0, 0, 0, 0, 0, 0, ...  \n",
       "3  [0, 0, 0, 0, 0, 0, 0, 0, 0, 0, 0, 0, 0, 0, 0, ...  \n",
       "4  [0, 0, 0, 0, 0, 0, 0, 0, 0, 0, 0, 0, 0, 0, 0, ...  "
      ]
     },
     "execution_count": 9,
     "metadata": {},
     "output_type": "execute_result"
    }
   ],
   "source": [
    "# process excel data to create Dataframe\n",
    "excel_df = process_raw_excel_data('QandA.xlsx', 78)\n",
    "\n",
    "# adding extra column for binary encoding\n",
    "excel_df['binary_encoding'] = excel_df.apply(lambda row: bow(row['Q'], words), axis=1)\n",
    "\n",
    "# save data with binary_encoding\n",
    "excel_df.to_pickle(\"Processed_Data/QandA_Excel_full_data_with_binaryCode.pkl\")\n",
    "\n",
    "# sample data\n",
    "excel_df[0:5]"
   ]
  },
  {
   "cell_type": "markdown",
   "metadata": {},
   "source": [
    "### Checking model and data with a sample "
   ]
  },
  {
   "cell_type": "code",
   "execution_count": 10,
   "metadata": {},
   "outputs": [
    {
     "name": "stdout",
     "output_type": "stream",
     "text": [
      "[0 0 0 ... 0 0 0]\n",
      "['how', 'how many', 'what', 'when', 'where', 'which', 'who', 'whose']\n",
      "[[3.7563237e-09 2.5984709e-14 2.1792453e-05 6.2759931e-08 1.4867381e-15\n",
      "  9.9997425e-01 3.9202951e-06 4.3642521e-15]]\n"
     ]
    }
   ],
   "source": [
    "p = bow(\"Proportionately which creature has the largest brain\", words)\n",
    "print (p)\n",
    "print (classes)\n",
    "print (model.predict([p]))"
   ]
  },
  {
   "cell_type": "markdown",
   "metadata": {},
   "source": [
    "### Save whole training data "
   ]
  },
  {
   "cell_type": "code",
   "execution_count": 11,
   "metadata": {},
   "outputs": [],
   "source": [
    "# save all of our data structures\n",
    "import pickle\n",
    "pickle.dump( {'words':words, 'classes':classes, 'train_x':train_x, 'train_y':train_y}, open( \"Processed_Data/Jay_training_data\", \"wb\" ) )"
   ]
  }
 ],
 "metadata": {
  "kernelspec": {
   "display_name": "Python 3",
   "language": "python",
   "name": "python3"
  },
  "language_info": {
   "codemirror_mode": {
    "name": "ipython",
    "version": 3
   },
   "file_extension": ".py",
   "mimetype": "text/x-python",
   "name": "python",
   "nbconvert_exporter": "python",
   "pygments_lexer": "ipython3",
   "version": "3.7.1"
  }
 },
 "nbformat": 4,
 "nbformat_minor": 2
}
